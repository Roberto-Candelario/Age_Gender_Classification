{
 "cells": [
  {
   "cell_type": "markdown",
   "metadata": {},
   "source": [
    "## Create a model that is able to predict both Age and gender based on the image presented\n"
   ]
  },
  {
   "cell_type": "markdown",
   "metadata": {},
   "source": []
  },
  {
   "cell_type": "code",
   "execution_count": 20,
   "metadata": {},
   "outputs": [
    {
     "name": "stdout",
     "output_type": "stream",
     "text": [
      "/Users/robertocandelario/Documents/Python Projects/Age_Gender_Classification\n"
     ]
    }
   ],
   "source": [
    "import torch\n",
    "import numpy as np, cv2, pandas as pd, glob, time\n",
    "import matplotlib.pyplot as plt\n",
    "%matplotlib inline\n",
    "import torch.nn as nn\n",
    "from torch import optim\n",
    "import torch.nn.functional as F\n",
    "from torch.utils.data import Dataset, DataLoader\n",
    "import torchvision\n",
    "from torchvision import transforms, models, datasets\n",
    "device = torch.device('mps') if torch.backends.mps.is_available() else torch.device('cpu')\n",
    "import pandas as pd, numpy as np\n",
    "import os\n",
    "print(os.getcwd())\n"
   ]
  },
  {
   "cell_type": "code",
   "execution_count": 21,
   "metadata": {},
   "outputs": [],
   "source": [
    "path = os.path.join(os.getcwd(), \"fairface-img-margin025-trainval/\")"
   ]
  },
  {
   "cell_type": "code",
   "execution_count": 25,
   "metadata": {},
   "outputs": [
    {
     "data": {
      "text/html": [
       "<div>\n",
       "<style scoped>\n",
       "    .dataframe tbody tr th:only-of-type {\n",
       "        vertical-align: middle;\n",
       "    }\n",
       "\n",
       "    .dataframe tbody tr th {\n",
       "        vertical-align: top;\n",
       "    }\n",
       "\n",
       "    .dataframe thead th {\n",
       "        text-align: right;\n",
       "    }\n",
       "</style>\n",
       "<table border=\"1\" class=\"dataframe\">\n",
       "  <thead>\n",
       "    <tr style=\"text-align: right;\">\n",
       "      <th></th>\n",
       "      <th>file</th>\n",
       "      <th>age</th>\n",
       "      <th>gender</th>\n",
       "      <th>race</th>\n",
       "      <th>service_test</th>\n",
       "    </tr>\n",
       "  </thead>\n",
       "  <tbody>\n",
       "    <tr>\n",
       "      <th>0</th>\n",
       "      <td>val/1.jpg</td>\n",
       "      <td>11</td>\n",
       "      <td>Male</td>\n",
       "      <td>East Asian</td>\n",
       "      <td>False</td>\n",
       "    </tr>\n",
       "    <tr>\n",
       "      <th>1</th>\n",
       "      <td>val/2.jpg</td>\n",
       "      <td>51</td>\n",
       "      <td>Female</td>\n",
       "      <td>East Asian</td>\n",
       "      <td>True</td>\n",
       "    </tr>\n",
       "    <tr>\n",
       "      <th>2</th>\n",
       "      <td>val/3.jpg</td>\n",
       "      <td>37</td>\n",
       "      <td>Male</td>\n",
       "      <td>White</td>\n",
       "      <td>True</td>\n",
       "    </tr>\n",
       "    <tr>\n",
       "      <th>3</th>\n",
       "      <td>val/4.jpg</td>\n",
       "      <td>25</td>\n",
       "      <td>Female</td>\n",
       "      <td>Latino_Hispanic</td>\n",
       "      <td>True</td>\n",
       "    </tr>\n",
       "    <tr>\n",
       "      <th>4</th>\n",
       "      <td>val/5.jpg</td>\n",
       "      <td>24</td>\n",
       "      <td>Male</td>\n",
       "      <td>Southeast Asian</td>\n",
       "      <td>False</td>\n",
       "    </tr>\n",
       "  </tbody>\n",
       "</table>\n",
       "</div>"
      ],
      "text/plain": [
       "        file  age  gender             race  service_test\n",
       "0  val/1.jpg   11    Male       East Asian         False\n",
       "1  val/2.jpg   51  Female       East Asian          True\n",
       "2  val/3.jpg   37    Male            White          True\n",
       "3  val/4.jpg   25  Female  Latino_Hispanic          True\n",
       "4  val/5.jpg   24    Male  Southeast Asian         False"
      ]
     },
     "execution_count": 25,
     "metadata": {},
     "output_type": "execute_result"
    }
   ],
   "source": [
    "trn_df = pd.read_csv(path + 'fairface-labels-train.csv')\n",
    "val_df = pd.read_csv(path + 'fairface-labels-val.csv')\n",
    "val_df.head()"
   ]
  },
  {
   "cell_type": "markdown",
   "metadata": {},
   "source": [
    "### Build a subclass Dataset \n",
    "    the subclass will take a dataframe and makes the required transformations.\n"
   ]
  },
  {
   "cell_type": "code",
   "execution_count": 31,
   "metadata": {},
   "outputs": [],
   "source": [
    "IMAGE_SIZE = 224\n",
    "class GenderAgeClass(Dataset):\n",
    "    \n",
    "    def __init__(self, df, tfms=None):\n",
    "        self.df = df\n",
    "        self.normalize = transforms.Normalize(\n",
    "            mean=[0.485, 0.456, 0.406],\n",
    "            std=[0.229, 0.224, 0.225])\n",
    "    \n",
    "    def __len__(self):\n",
    "        return len(self.df)\n",
    "    \n",
    "    def __getitem__(self, ix):\n",
    "        f = self.df.iloc[ix].squeeze()\n",
    "        file = f.file\n",
    "        gen = f.gender == 'Female'\n",
    "        age = f.age\n",
    "        im = cv2.imread(file)\n",
    "        im = cv2.cvtColor(im, cv2.COLOR_BGR2RGB)\n",
    "        return im, age, gen\n",
    "    \n",
    "    def preprocess_image(self, im):\n",
    "        im = cv2.resize(im, (IMAGE_SIZE, IMAGE_SIZE))\n",
    "        im = torch.tensor(im).permute(2,0,1)\n",
    "        im = self.normalize(im/225.)\n",
    "        return im[None]\n",
    "    \n",
    "    def collate_fn(self, batch):\n",
    "        'preprocess images, ages and genders'\n",
    "        ims, ages, genders = [], [], []\n",
    "        for im, age, gender in batch:\n",
    "            im = self.preprocess_image(im)\n",
    "            ims.append(im)\n",
    "            \n",
    "            ages.append(float(int(age)/80))\n",
    "            genders.append(float(gender))\n",
    "            \n",
    "        ages, genders = [torch.tensor(x).to(device).float() for x in [ages, gender]]\n",
    "        ims = torch.cat(ims).to(device)\n",
    "            \n",
    "        return ims, ages, genders"
   ]
  },
  {
   "cell_type": "markdown",
   "metadata": {},
   "source": [
    "## Define the dataloaders\n",
    "    The dataloaders help pull batches of data for the model to be trained on\n"
   ]
  },
  {
   "cell_type": "code",
   "execution_count": 32,
   "metadata": {},
   "outputs": [
    {
     "name": "stdout",
     "output_type": "stream",
     "text": [
      "torch.Size([32, 3, 224, 224]) torch.Size([32]) torch.Size([])\n"
     ]
    }
   ],
   "source": [
    "trn = GenderAgeClass(trn_df)\n",
    "val = GenderAgeClass(val_df)\n",
    "\n",
    "train_loader = DataLoader(trn, batch_size=32, shuffle=True,\n",
    "                        drop_last=True,collate_fn=trn.collate_fn)\n",
    "test_loader = DataLoader(val, batch_size=32,\n",
    "                        collate_fn=val.collate_fn)\n",
    "\n",
    "a,b,c, = next(iter(train_loader))\n",
    "print(a.shape, b.shape, c.shape)"
   ]
  },
  {
   "cell_type": "markdown",
   "metadata": {},
   "source": [
    "## Get the pretrained model\n",
    "    Free the current parameters and change the last layer "
   ]
  },
  {
   "cell_type": "code",
   "execution_count": 33,
   "metadata": {},
   "outputs": [],
   "source": [
    "def get_model():\n",
    "    model = models.vgg16(pretrained=True)\n",
    "    for param in model.parameters():\n",
    "        param.requires_grad = False\n",
    "        \n",
    "    model.avgpool = nn.Sequential(\n",
    "        nn.Conv2d(512, 512, kernel_size=3),\n",
    "        nn.MaxPool2d(2),\n",
    "        nn.ReLU(),\n",
    "        nn.Flatten()\n",
    "    )\n",
    "    ### Build a nn.Module class. This class will help us split the model to predict classification and sequential \n",
    "    \n",
    "    class ageGenderClassifier(nn.Module):\n",
    "        def __init__(self):\n",
    "            super(ageGenderClassifier, self).__init__()\n",
    "            \n",
    "            # First layer \n",
    "            self.intermediate = nn.Sequential(\n",
    "                nn.Linear(2048, 512),\n",
    "                nn.ReLU(),\n",
    "                nn.Dropout(0.4),\n",
    "                nn.Linear(512, 128),\n",
    "                nn.ReLU(),\n",
    "                nn.Dropout(0.4),\n",
    "                nn.Linear(128,64),\n",
    "                nn.ReLU()\n",
    "            )\n",
    "            \n",
    "            # Next two layers are the ending layers \n",
    "            self.age_classifier = nn.Sequential(\n",
    "                nn.Linear(64, 1),\n",
    "                nn.Sigmoid()\n",
    "            )\n",
    "            \n",
    "            self.gender_classifier = nn.Sequential(\n",
    "                nn.Linear(64, 1),\n",
    "                nn.Sigmoid()\n",
    "            )\n",
    "        \n",
    "        def forward(self, x):\n",
    "            x = self.intermediate(x)\n",
    "            age = self.age_classifier(x)\n",
    "            gender = self.gender_classifier(x)\n",
    "            return gender, age\n",
    "        \n",
    "    model.classifier = ageGenderClassifier()\n",
    "    \n",
    "    # define the loss function for both gender and age \n",
    "    gender_criterion = nn.BCELoss()\n",
    "    age_criterion = nn.L1Loss()\n",
    "    loss_functions = gender_criterion, age_criterion\n",
    "    optimizer = torch.optim.Adam(model.parameters(), lr=1e-4)\n",
    "    return model.to(device), loss_functions, optimizer\n",
    "\n",
    "model, criterion, optimizer = get_model()"
   ]
  },
  {
   "cell_type": "markdown",
   "metadata": {},
   "source": [
    "## Define function to train model on a batch"
   ]
  },
  {
   "cell_type": "code",
   "execution_count": 35,
   "metadata": {},
   "outputs": [],
   "source": [
    "def train_batch(data, model, optimizer, criteria):\n",
    "    model.train()\n",
    "    ims, age, gender = data\n",
    "    optimizer.zero_grad()\n",
    "    pred_gender, pred_age = model(ims)\n",
    "    gender_criterion, age_criterion = criteria\n",
    "    gender_loss = gender_criterion(pred_gender.squeeze(), gender)\n",
    "    age_loss = age_criterion(pred_age.squeeze(), gender)\n",
    "    \n",
    "    # add both losses and perform back propagation\n",
    "    total_loss = gender_loss + age_loss\n",
    "    total_loss.backward()\n",
    "    optimizer.step()\n",
    "    return total_loss"
   ]
  },
  {
   "cell_type": "code",
   "execution_count": null,
   "metadata": {},
   "outputs": [],
   "source": []
  }
 ],
 "metadata": {
  "kernelspec": {
   "display_name": "Python 3",
   "language": "python",
   "name": "python3"
  },
  "language_info": {
   "codemirror_mode": {
    "name": "ipython",
    "version": 3
   },
   "file_extension": ".py",
   "mimetype": "text/x-python",
   "name": "python",
   "nbconvert_exporter": "python",
   "pygments_lexer": "ipython3",
   "version": "3.12.2"
  }
 },
 "nbformat": 4,
 "nbformat_minor": 2
}
